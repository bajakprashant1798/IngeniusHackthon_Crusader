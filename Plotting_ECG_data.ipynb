{
  "nbformat": 4,
  "nbformat_minor": 0,
  "metadata": {
    "colab": {
      "name": "Plotting_ECG_data.ipynb",
      "provenance": [],
      "collapsed_sections": [],
      "toc_visible": true
    },
    "kernelspec": {
      "name": "python3",
      "display_name": "Python 3"
    }
  },
  "cells": [
    {
      "cell_type": "code",
      "metadata": {
        "id": "fjmAeitB5tve",
        "colab_type": "code",
        "colab": {}
      },
      "source": [
        "import pandas as pd\n",
        "import matplotlib.pyplot as plt\n",
        "import numpy as np\n",
        "import math\n",
        "dataset = pd.read_csv(\"/content/drive/My Drive/Hackathon_2020/data.csv\") \n",
        "#Calculate moving average with 0.75s in both directions, then append do dataset\n",
        "widow_running = 0.75 \n",
        "fs = 100 \n",
        "mov_avg = dataset['hart'].rolling(int(widow_running*fs)).mean() #Calculate moving average\n",
        "\n",
        "avg_hr = (np.mean(dataset.hart))\n",
        "#isnan:::::::determine whether a given parameter is a valid number or not\n",
        "mov_avg = [avg_hr if math.isnan(x) else x for x in mov_avg]\n",
        "dataset['Moving_average_data'] = mov_avg \n",
        "\n",
        "############################################3\n",
        "plt.title(\"Detected peaks in signal\")\n",
        "plt.xlim(0,2500)\n",
        "plt.plot(dataset.hart) \n",
        "plt.plot(mov_avg, color ='green') \n",
        "plt.show()"
      ],
      "execution_count": 0,
      "outputs": []
    }
  ]
}